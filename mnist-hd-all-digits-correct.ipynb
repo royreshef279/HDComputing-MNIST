{
 "cells": [
  {
   "cell_type": "code",
   "execution_count": null,
   "metadata": {},
   "outputs": [],
   "source": [
    "import numpy as np\n",
    "from PIL import Image\n",
    "import matplotlib.pyplot as plt\n",
    "from scipy.spatial.distance import hamming\n",
    "import tensorflow\n",
    "from tensorflow import keras\n"
   ]
  },
  {
   "cell_type": "code",
   "execution_count": 3,
   "metadata": {},
   "outputs": [],
   "source": [
    "## function which receives as input number of images and number of labels to get from MNIST datasets\n",
    "## function returns an array of np arrays in binary form (entries are 1 or 0), ready to be trained\n",
    "## each entry of array is an np array corresponding to each label, depending on the max_label parameter\n",
    "## e.g. get_images(10,5) will return an array for labels 0 to 5, with each element containing 10 binarized\n",
    "## images, where each image is represented by 784 bits (28*28 pixels)\n",
    "\n",
    "# To display images remove comments below, but BEWARE of the size of the figure and the number of images,\n",
    "# otherwise it can be VERY slow!\n",
    "def get_images(num_images,max_label,size):\n",
    "    images_to_train = []\n",
    "    #fig, axes = plt.subplots(max_label+1, num_images, figsize=(num_images,2))\n",
    "    (train_images, train_labels), (test_images, test_labels) = keras.datasets.mnist.load_data()\n",
    "    for label in range(max_label+1):\n",
    "        train_images_temp = train_images[(train_labels == label)]\n",
    "        temp = []\n",
    "        flattened = []\n",
    "        binary = []\n",
    "        for image in range(num_images):\n",
    "            img = Image.fromarray(train_images_temp[image])\n",
    "            temp.append(np.array(img.resize((size,size),resample=Image.BILINEAR)))\n",
    "            #axes[label][image].imshow(temp[image],cmap = \"gray\")\n",
    "            #axes[label][image].axis(\"off\")\n",
    "            flattened.append(temp[image].flatten())\n",
    "            binary.append(np.where(flattened[image]>0,1,0))\n",
    "        images_to_train.append(binary)\n",
    "    #plt.show()\n",
    "\n",
    "    return images_to_train\n"
   ]
  },
  {
   "cell_type": "code",
   "execution_count": 4,
   "metadata": {},
   "outputs": [],
   "source": [
    "## These functions take care of the encoding process of each image. These will essentially map our images into\n",
    "## the hypervector space\n",
    "\n",
    "# imported function to generate a memory of HVs, given a seed number, HV dimension, and \n",
    "# pixel number (i.e. the image size)\n",
    "from hdfunctions import gen_im\n",
    "\n",
    "## This function receives as an input a binary image array and returns an indexHV, i.e. fo every pixel in the\n",
    "## image, encode it to a hypervector, which is randomly generated with the inner gen_im function, which was \n",
    "## imported from the hd functions file.\n",
    "## The function returns an array of D-dimensional HVs, where each element represents a pixel \n",
    "def gen_pixel_hv_array(image_array,seed,D,image_size):\n",
    "    im = gen_im(seed,D,image_size)\n",
    "    pixel_hv_array = []\n",
    "    for image in range(len(image_array)):\n",
    "        temp = []\n",
    "        for pixel in range(len(image_array[image])):\n",
    "            if image_array[image][pixel] == 1:\n",
    "                temp.append(np.roll(im[pixel],1))\n",
    "            else:\n",
    "                temp.append(im[pixel])\n",
    "        pixel_hv_array.append(temp)\n",
    "    return pixel_hv_array\n",
    "\n",
    "# This function takes an array of HV images and bundles the HV pixels together into a single hypervector.\n",
    "# The bundling works with component-wise addition and majority rule decides whether the value of the sum  \n",
    "# is 0 or 1, and each image is converted into a single D-dimensional HV\n",
    "# The function returns an array of the size of the number of images, where each entry is of size D\n",
    "def bundle_pixel_hv_array(pixel_hv_array):\n",
    "    bundled_bin_hv_array = []\n",
    "    for image in range(len(pixel_hv_array)):\n",
    "        temp = np.sum(pixel_hv_array[image],axis=0)\n",
    "        bundled_bin_hv_array.append(np.where(temp < len(pixel_hv_array[0])//2,0,1))   \n",
    "    return bundled_bin_hv_array\n",
    "\n",
    "# This function receives an array of bundled HV images, and returns a single HV representing the label of the\n",
    "# encoded images. The output is a list of size D\n",
    "# This function is also used to encode a test image\n",
    "def gen_label(bin_hv_array):\n",
    "    label = []\n",
    "    sums_array = []\n",
    "    if len(bin_hv_array) < 2:\n",
    "        label.append(bin_hv_array)\n",
    "        return list(label[0][0])\n",
    "    \n",
    "    sums_array.append(np.sum(bin_hv_array,axis=0))\n",
    "    for image in range(len(sums_array)):\n",
    "        label = np.where(sums_array[image]<=len(bin_hv_array)//2,0,1)\n",
    "    return label.tolist()\n",
    "\n",
    "# This function creates the different classes. Receives an array of binary images to be trained and the size\n",
    "# of the hypervector\n",
    "# It returns an array of hypervectors where each entry represents the class corresponding \n",
    "# to the digit label (associative memory).\n",
    "def gen_am(images_to_train,D,size):\n",
    "    AM = []\n",
    "    for array in range(len(images_to_train)):\n",
    "        pixel_hv_array = gen_pixel_hv_array(images_to_train[array],0,D,size*size)\n",
    "        bundled_hv_array = bundle_pixel_hv_array(pixel_hv_array)\n",
    "        label = gen_label(bundled_hv_array)\n",
    "        AM.append(label)\n",
    "    return AM"
   ]
  },
  {
   "cell_type": "code",
   "execution_count": 5,
   "metadata": {},
   "outputs": [],
   "source": [
    "num_images = 3000\n",
    "max_label = 9\n",
    "size = 15"
   ]
  },
  {
   "cell_type": "code",
   "execution_count": 6,
   "metadata": {},
   "outputs": [],
   "source": [
    "get_images_test = get_images(2000,9,15)"
   ]
  },
  {
   "cell_type": "code",
   "execution_count": 7,
   "metadata": {},
   "outputs": [],
   "source": [
    "new_am_test = gen_am(get_images_test,10000,15)"
   ]
  },
  {
   "cell_type": "code",
   "execution_count": 8,
   "metadata": {},
   "outputs": [],
   "source": [
    "# This function returns a specified number of query images to test our HV implementation \n",
    "\n",
    "def test_images_function(num_images,size):\n",
    "        (test_images, test_labels) = keras.datasets.mnist.load_data()[1]\n",
    "        test_images_array, labels = test_images[:num_images],test_labels[:num_images]\n",
    "        binary_images = []\n",
    "        for label in range(len(labels)):\n",
    "                image = Image.fromarray(test_images_array[label]).resize((size,size),resample=Image.BILINEAR)\n",
    "                im_arr = np.array(image)\n",
    "                flat_im = im_arr.flatten()\n",
    "                binary_im = [np.array((np.where(flat_im>0,1,0)))]\n",
    "                binary_images.append(gen_label(bundle_pixel_hv_array(gen_pixel_hv_array(binary_im,0,10000,size*size))))\n",
    "        return binary_images, labels\n"
   ]
  },
  {
   "cell_type": "code",
   "execution_count": 9,
   "metadata": {},
   "outputs": [],
   "source": [
    "binary_images, labels = test_images_function(50,15)\n"
   ]
  },
  {
   "cell_type": "code",
   "execution_count": 10,
   "metadata": {},
   "outputs": [
    {
     "name": "stdout",
     "output_type": "stream",
     "text": [
      "[7, 2, 1, 0, 4, 1, 4, 9, 5, 9, 0, 6, 9, 0, 1, 5, 9, 7, 3, 4, 9, 6, 6, 5, 4, 0, 7, 4, 0, 1, 3, 1, 3, 4, 7, 2, 7, 1, 2, 1, 1, 7, 4, 2, 3, 5, 1, 2, 4, 4]\n",
      "[7, 2, 1, 0, 4, 1, 4, 9, 5, 7, 0, 0, 9, 0, 1, 3, 9, 7, 2, 4, 9, 6, 4, 5, 4, 0, 7, 4, 0, 1, 3, 1, 3, 0, 7, 2, 7, 1, 3, 1, 1, 7, 4, 2, 3, 8, 9, 2, 4, 4]\n",
      "[0, 0, 0, 0, 0, 0, 0, 0, 0, -2, 0, -6, 0, 0, 0, -2, 0, 0, -1, 0, 0, 0, -2, 0, 0, 0, 0, 0, 0, 0, 0, 0, 0, -4, 0, 0, 0, 0, 1, 0, 0, 0, 0, 0, 0, 3, 8, 0, 0, 0]\n",
      "Number of correct images: 41\n",
      "Accuracy: 0.82\n"
     ]
    }
   ],
   "source": [
    "tested_values = []\n",
    "for i in range(len(binary_images)):\n",
    "    hammings = []\n",
    "    for j in range(len(new_am_test)):\n",
    "        hammings.append(hamming(binary_images[i],new_am_test[j]))\n",
    "    min_value = hammings.index(min(hammings))\n",
    "    tested_values.append(min_value)\n",
    "print(list(labels))\n",
    "print(tested_values)\n",
    "\n",
    "result = []\n",
    "for i in range(len(labels)):\n",
    "    result.append(tested_values[i] - labels[i])\n",
    "print(result)\n",
    "\n",
    "correct_labels = []\n",
    "for i in range(len(result)):\n",
    "    if result[i] == 0:\n",
    "        correct_labels.append(result[i])\n",
    "print(f\"Number of correct images: {len(correct_labels)}\")\n",
    "print(f\"Accuracy: {len(correct_labels)/len(result)}\")\n"
   ]
  }
 ],
 "metadata": {
  "kernelspec": {
   "display_name": "hdenv",
   "language": "python",
   "name": "python3"
  },
  "language_info": {
   "codemirror_mode": {
    "name": "ipython",
    "version": 3
   },
   "file_extension": ".py",
   "mimetype": "text/x-python",
   "name": "python",
   "nbconvert_exporter": "python",
   "pygments_lexer": "ipython3",
   "version": "3.10.6"
  },
  "orig_nbformat": 4,
  "vscode": {
   "interpreter": {
    "hash": "24f428173e26b383f955738cfc1ce152f62913f95f00926f1df45ac9776ef8e9"
   }
  }
 },
 "nbformat": 4,
 "nbformat_minor": 2
}
